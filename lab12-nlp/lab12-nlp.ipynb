{
  "cells": [
    {
      "cell_type": "markdown",
      "metadata": {
        "id": "N2wlYCA0Y3vy"
      },
      "source": [
        "# Character-Level LSTM in PyTorch\n",
        "\n",
        "The network will train character by character on some text, then generate new text character by character. As an example, it'll use the text of \"Alice in Wonderland\". **This model will be able to generate new text based on the text from the book!**\n",
        "\n",
        "This network is based off of Andrej Karpathy's [post on RNNs](http://karpathy.github.io/2015/05/21/rnn-effectiveness/) and [implementation in Torch](https://github.com/karpathy/char-rnn). Below is the general architecture of the character-wise RNN.\n",
        "\n",
        "<img src=\"assets/charseq.jpeg\" width=\"500\">"
      ]
    },
    {
      "cell_type": "markdown",
      "metadata": {
        "id": "blCH7m6aY3v7"
      },
      "source": [
        "First let's load in our required resources for data loading and model creation."
      ]
    },
    {
      "cell_type": "code",
      "execution_count": 1,
      "metadata": {
        "id": "nkfSUMmTY3v-"
      },
      "outputs": [],
      "source": [
        "import numpy as np\n",
        "import torch\n",
        "from torch import nn\n",
        "import torch.nn.functional as F"
      ]
    },
    {
      "cell_type": "markdown",
      "metadata": {
        "id": "U0GmuGvsY3wC"
      },
      "source": [
        "## Load in Data\n",
        "\n",
        "Then, we'll load the \"Alice in Wonderland\" text file and convert it into integers for our network to use."
      ]
    },
    {
      "cell_type": "code",
      "execution_count": 3,
      "metadata": {
        "id": "JORNwaH0Y3wD"
      },
      "outputs": [],
      "source": [
        "# open text file and read in data as `text`\n",
        "with open('alice.txt', 'r', encoding='utf-8') as f:\n",
        "    text = f.read()"
      ]
    },
    {
      "cell_type": "markdown",
      "metadata": {
        "id": "wViHTlRCY3wE"
      },
      "source": [
        "Let's check out the first 100 characters, make sure everything is peachy."
      ]
    },
    {
      "cell_type": "code",
      "execution_count": 4,
      "metadata": {
        "colab": {
          "base_uri": "https://localhost:8080/",
          "height": 52
        },
        "id": "7AIWpQDcY3wG",
        "outputId": "53765f93-b26c-4ff0-a743-f5cfb10b31cf"
      },
      "outputs": [
        {
          "output_type": "execute_result",
          "data": {
            "text/plain": [
              "'Alice’s Adventures in Wonderland\\n\\nby Lewis Carroll\\n\\nTHE MILLENNIUM FULCRUM EDITION 3.0\\n\\nContents\\n\\n C'"
            ],
            "application/vnd.google.colaboratory.intrinsic+json": {
              "type": "string"
            }
          },
          "metadata": {},
          "execution_count": 4
        }
      ],
      "source": [
        "text[:100]"
      ]
    },
    {
      "cell_type": "markdown",
      "metadata": {
        "id": "sROv80m1Y3wK"
      },
      "source": [
        "### Tokenization\n",
        "\n",
        "In the cells, below, I'm creating a couple **dictionaries** to convert the characters to and from integers. Encoding the characters as integers makes it easier to use as input in the network."
      ]
    },
    {
      "cell_type": "code",
      "execution_count": 5,
      "metadata": {
        "id": "ZclZ0EkfY3wL"
      },
      "outputs": [],
      "source": [
        "# encode the text and map each character to an integer and vice versa\n",
        "\n",
        "# we create two dictionaries:\n",
        "# 1. int2char, which maps integers to characters\n",
        "# 2. char2int, which maps characters to unique integers\n",
        "chars = tuple(set(text))\n",
        "int2char = dict(enumerate(chars))\n",
        "char2int = {ch: ii for ii, ch in int2char.items()}\n",
        "\n",
        "# encode the text\n",
        "encoded = np.array([char2int[ch] for ch in text])"
      ]
    },
    {
      "cell_type": "markdown",
      "metadata": {
        "id": "qZ4aKKjRY3wN"
      },
      "source": [
        "And we can see those same characters from above, encoded as integers."
      ]
    },
    {
      "cell_type": "code",
      "execution_count": 6,
      "metadata": {
        "colab": {
          "base_uri": "https://localhost:8080/"
        },
        "id": "vNj1rfw8Y3wO",
        "outputId": "e0a0c7fb-117e-421a-a69b-12b5fd1c6b56"
      },
      "outputs": [
        {
          "output_type": "execute_result",
          "data": {
            "text/plain": [
              "array([27, 62, 78, 43, 65,  5, 16, 14, 27, 71, 58, 65, 64, 44, 52, 34, 65,\n",
              "       16, 14, 78, 64, 14, 83, 35, 64, 71, 65, 34, 62, 56, 64, 71, 55, 55,\n",
              "       13,  1, 14, 67, 65, 22, 78, 16, 14, 73, 56, 34, 34, 35, 62, 62, 55,\n",
              "       55, 69, 63, 53, 14, 23, 21, 67, 67, 53,  4,  4, 21, 37, 23, 14, 20,\n",
              "       37, 67, 73, 76, 37, 23, 14, 53, 79, 21, 69, 21, 57,  4, 14, 25, 19,\n",
              "       51, 55, 55, 73, 35, 64, 44, 65, 64, 44, 16, 55, 55, 14, 73])"
            ]
          },
          "metadata": {},
          "execution_count": 6
        }
      ],
      "source": [
        "encoded[:100]"
      ]
    },
    {
      "cell_type": "markdown",
      "metadata": {
        "id": "RjaCSUJbY3wQ"
      },
      "source": [
        "## Pre-processing the data\n",
        "\n",
        "As you can see in our char-RNN image above, our LSTM expects an input that is **one-hot encoded** meaning that each character is converted into an integer (via our created dictionary) and *then* converted into a column vector where only it's corresponding integer index will have the value of 1 and the rest of the vector will be filled with 0's. Since we're one-hot encoding the data, let's make a function to do that!\n"
      ]
    },
    {
      "cell_type": "code",
      "execution_count": 7,
      "metadata": {
        "id": "lzhDlOcKY3wR"
      },
      "outputs": [],
      "source": [
        "def one_hot_encode(arr, n_labels):\n",
        "\n",
        "    # Initialize the the encoded array\n",
        "    one_hot = np.zeros((np.multiply(*arr.shape), n_labels), dtype=np.float32)\n",
        "\n",
        "    # Fill the appropriate elements with ones\n",
        "    one_hot[np.arange(one_hot.shape[0]), arr.flatten()] = 1.\n",
        "\n",
        "    # Finally reshape it to get back to the original array\n",
        "    one_hot = one_hot.reshape((*arr.shape, n_labels))\n",
        "\n",
        "    return one_hot"
      ]
    },
    {
      "cell_type": "code",
      "execution_count": 8,
      "metadata": {
        "colab": {
          "base_uri": "https://localhost:8080/"
        },
        "id": "aLa7jiBSY3wS",
        "outputId": "38f76a64-ee5d-42bd-b2d7-f5a7eedf52aa"
      },
      "outputs": [
        {
          "output_type": "stream",
          "name": "stdout",
          "text": [
            "[[[0. 0. 0. 1. 0. 0. 0. 0.]\n",
            "  [0. 0. 0. 0. 0. 1. 0. 0.]\n",
            "  [0. 1. 0. 0. 0. 0. 0. 0.]]]\n"
          ]
        }
      ],
      "source": [
        "# check that the function works as expected\n",
        "test_seq = np.array([[3, 5, 1]])\n",
        "one_hot = one_hot_encode(test_seq, 8)\n",
        "\n",
        "print(one_hot)"
      ]
    },
    {
      "cell_type": "markdown",
      "metadata": {
        "id": "07KUrNb1Y3wV"
      },
      "source": [
        "## Making training mini-batches\n",
        "\n",
        "\n",
        "To train on this data, we also want to create mini-batches for training. Remember that we want our batches to be multiple sequences of some desired number of sequence steps. Considering a simple example, our batches would look like this:\n",
        "\n",
        "<img src=\"assets/sequence_batching@1x.png\" width=500px>\n",
        "\n",
        "\n",
        "<br>\n",
        "\n",
        "In this example, we'll take the encoded characters (passed in as the `arr` parameter) and split them into multiple sequences, given by `batch_size`. Each of our sequences will be `seq_length` long.\n",
        "\n",
        "### Creating Batches\n",
        "\n",
        "**1. The first thing we need to do is discard some of the text so we only have completely full mini-batches. **\n",
        "\n",
        "Each batch contains $N \\times M$ characters, where $N$ is the batch size (the number of sequences in a batch) and $M$ is the seq_length or number of time steps in a sequence. Then, to get the total number of batches, $K$, that we can make from the array `arr`, you divide the length of `arr` by the number of characters per batch. Once you know the number of batches, you can get the total number of characters to keep from `arr`, $N * M * K$.\n",
        "\n",
        "**2. After that, we need to split `arr` into $N$ batches. **\n",
        "\n",
        "You can do this using `arr.reshape(size)` where `size` is a tuple containing the dimensions sizes of the reshaped array. We know we want $N$ sequences in a batch, so let's make that the size of the first dimension. For the second dimension, you can use `-1` as a placeholder in the size, it'll fill up the array with the appropriate data for you. After this, you should have an array that is $N \\times (M * K)$.\n",
        "\n",
        "**3. Now that we have this array, we can iterate through it to get our mini-batches. **\n",
        "\n",
        "The idea is each batch is a $N \\times M$ window on the $N \\times (M * K)$ array. For each subsequent batch, the window moves over by `seq_length`. We also want to create both the input and target arrays. Remember that the targets are just the inputs shifted over by one character. The way I like to do this window is use `range` to take steps of size `n_steps` from $0$ to `arr.shape[1]`, the total number of tokens in each sequence. That way, the integers you get from `range` always point to the start of a batch, and each window is `seq_length` wide."
      ]
    },
    {
      "cell_type": "code",
      "execution_count": 9,
      "metadata": {
        "id": "wyLULsYsY3wX"
      },
      "outputs": [],
      "source": [
        "def get_batches(arr, batch_size, seq_length):\n",
        "    '''Create a generator that returns batches of size\n",
        "       batch_size x seq_length from arr.\n",
        "\n",
        "       Arguments\n",
        "       ---------\n",
        "       arr: Array you want to make batches from\n",
        "       batch_size: Batch size, the number of sequences per batch\n",
        "       seq_length: Number of encoded chars in a sequence\n",
        "    '''\n",
        "    batch_size_total = batch_size * seq_length\n",
        "    ## TODO: Get the number of batches we can make\n",
        "    n_batches = len(arr)//batch_size_total\n",
        "\n",
        "    ## TODO: Keep only enough characters to make full batches\n",
        "    arr = arr[:n_batches * batch_size_total]\n",
        "     ## TODO: Reshape into batch_size rows\n",
        "    arr = arr.reshape((batch_size, -1))\n",
        "\n",
        "    # iterate through the array, one sequence at a time\n",
        "    for n in range(0, arr.shape[1], seq_length):\n",
        "        # The features\n",
        "        x = arr[:, n:n+seq_length]\n",
        "        # The targets, shifted by one\n",
        "        y = np.zeros_like(x)\n",
        "        try:\n",
        "            y[:, :-1], y[:, -1] = x[:, 1:], arr[:, n+seq_length]\n",
        "        except IndexError:\n",
        "            y[:, :-1], y[:, -1] = x[:, 1:], arr[:, 0]\n",
        "        yield x, y\n",
        "\n",
        "       # y = np.roll(x, -1, axis = 1)"
      ]
    },
    {
      "cell_type": "markdown",
      "metadata": {
        "id": "EDCuFnRqY3wZ"
      },
      "source": [
        "### Test Your Implementation\n",
        "\n",
        "Now I'll make some data sets and we can check out what's going on as we batch data. Here, as an example, I'm going to use a batch size of 8 and 50 sequence steps."
      ]
    },
    {
      "cell_type": "code",
      "execution_count": 10,
      "metadata": {
        "id": "KTA8f0iBY3wa"
      },
      "outputs": [],
      "source": [
        "batches = get_batches(encoded, 8, 50)\n",
        "x, y = next(batches)"
      ]
    },
    {
      "cell_type": "code",
      "execution_count": 11,
      "metadata": {
        "colab": {
          "base_uri": "https://localhost:8080/"
        },
        "id": "j3RtnTXJY3wc",
        "outputId": "9eec37ff-76f6-4219-dcaf-7796bf632a09"
      },
      "outputs": [
        {
          "output_type": "stream",
          "name": "stdout",
          "text": [
            "x\n",
            " [[27 62 78 43 65  5 16 14 27 71]\n",
            " [86 35 14 16 74 65 14 13 65 66]\n",
            " [35 52 62 71 30 14 56 64 71 14]\n",
            " [26 14 44 74 65 14 20 35 35 44]\n",
            " [16 56 78 71 30 14 38 21 44 14]\n",
            " [56 34 66 65 14  0 52 16 44 56]\n",
            " [35 14 85 55 65 64 64  1 22 35]\n",
            " [65 56 64 78 64 66 14 74 65 34]]\n",
            "\n",
            "y\n",
            " [[62 78 43 65  5 16 14 27 71 58]\n",
            " [35 14 16 74 65 14 13 65 66 56]\n",
            " [52 62 71 30 14 56 64 71 14 22]\n",
            " [14 44 74 65 14 20 35 35 44  0]\n",
            " [56 78 71 30 14 38 21 44 14 22]\n",
            " [34 66 65 14  0 52 16 44 56 34]\n",
            " [14 85 55 65 64 64  1 22 35 34]\n",
            " [56 64 78 64 66 14 74 65 34 14]]\n"
          ]
        }
      ],
      "source": [
        "# printing out the first 10 items in a sequence\n",
        "print('x\\n', x[:10, :10])\n",
        "print('\\ny\\n', y[:10, :10])"
      ]
    },
    {
      "cell_type": "markdown",
      "metadata": {
        "id": "aSFtR7IPY3wg"
      },
      "source": [
        "If you implemented `get_batches` correctly, the above output should look something like\n",
        "```\n",
        "x\n",
        " [[25  8 60 11 45 27 28 73  1  2]\n",
        " [17  7 20 73 45  8 60 45 73 60]\n",
        " [27 20 80 73  7 28 73 60 73 65]\n",
        " [17 73 45  8 27 73 66  8 46 27]\n",
        " [73 17 60 12 73  8 27 28 73 45]\n",
        " [66 64 17 17 46  7 20 73 60 20]\n",
        " [73 76 20 20 60 73  8 60 80 73]\n",
        " [47 35 43  7 20 17 24 50 37 73]]\n",
        "\n",
        "y\n",
        " [[ 8 60 11 45 27 28 73  1  2  2]\n",
        " [ 7 20 73 45  8 60 45 73 60 45]\n",
        " [20 80 73  7 28 73 60 73 65  7]\n",
        " [73 45  8 27 73 66  8 46 27 65]\n",
        " [17 60 12 73  8 27 28 73 45 27]\n",
        " [64 17 17 46  7 20 73 60 20 80]\n",
        " [76 20 20 60 73  8 60 80 73 17]\n",
        " [35 43  7 20 17 24 50 37 73 36]]\n",
        " ```\n",
        " although the exact numbers may be different. Check to make sure the data is shifted over one step for `y`."
      ]
    },
    {
      "cell_type": "markdown",
      "metadata": {
        "id": "bfpZ9Y5pY3wi"
      },
      "source": [
        "---\n",
        "## Defining the network with PyTorch\n",
        "\n",
        "Below is where you'll define the network.\n",
        "\n",
        "<img src=\"assets/charRNN.png\" width=500px>\n",
        "\n",
        "Next, you'll use PyTorch to define the architecture of the network. We start by defining the layers and operations we want. Then, define a method for the forward pass. You've also been given a method for predicting characters."
      ]
    },
    {
      "cell_type": "markdown",
      "metadata": {
        "id": "5YlJp3r9Y3wj"
      },
      "source": [
        "### Model Structure\n",
        "\n",
        "In `__init__` the suggested structure is as follows:\n",
        "* Create and store the necessary dictionaries (this has been done for you)\n",
        "* Define an LSTM layer that takes as params: an input size (the number of characters), a hidden layer size `n_hidden`, a number of layers `n_layers`, a dropout probability `drop_prob`, and a batch_first boolean (True, since we are batching)\n",
        "* Define a dropout layer with `dropout_prob`\n",
        "* Define a fully-connected layer with params: input size `n_hidden` and output size (the number of characters)\n",
        "* Finally, initialize the weights (again, this has been given)\n",
        "\n",
        "Note that some parameters have been named and given in the `__init__` function, and we use them and store them by doing something like `self.drop_prob = drop_prob`."
      ]
    },
    {
      "cell_type": "markdown",
      "metadata": {
        "id": "xHcy_Ve7Y3wk"
      },
      "source": [
        "---\n",
        "### LSTM Inputs/Outputs\n",
        "\n",
        "You can create a basic [LSTM layer](https://pytorch.org/docs/stable/nn.html#lstm) as follows\n",
        "\n",
        "```python\n",
        "self.lstm = nn.LSTM(input_size, n_hidden, n_layers,\n",
        "                            dropout=drop_prob, batch_first=True)\n",
        "```\n",
        "\n",
        "where `input_size` is the number of characters this cell expects to see as sequential input, and `n_hidden` is the number of units in the hidden layers in the cell. And we can add dropout by adding a dropout parameter with a specified probability; this will automatically add dropout to the inputs or outputs. Finally, in the `forward` function, we can stack up the LSTM cells into layers using `.view`. With this, you pass in a list of cells and it will send the output of one cell into the next cell.\n",
        "\n",
        "We also need to create an initial hidden state of all zeros. This is done like so\n",
        "\n",
        "```python\n",
        "self.init_hidden()\n",
        "```"
      ]
    },
    {
      "cell_type": "code",
      "execution_count": 12,
      "metadata": {
        "colab": {
          "base_uri": "https://localhost:8080/"
        },
        "id": "VHBDZ_VRY3wm",
        "outputId": "1a833424-866e-48cb-cf37-54e07b39d85f"
      },
      "outputs": [
        {
          "output_type": "stream",
          "name": "stdout",
          "text": [
            "No GPU available, training on CPU; consider making n_epochs very small.\n"
          ]
        }
      ],
      "source": [
        "# check if GPU is available (replace with \"backends.cuda\" below if Nvidia GPU is available)\n",
        "train_on_gpu = torch.backends.mps.is_available()\n",
        "device = \"cpu\"\n",
        "if(train_on_gpu):\n",
        "    print('Training on GPU!')\n",
        "    device = \"mps\"\n",
        "else:\n",
        "    print('No GPU available, training on CPU; consider making n_epochs very small.')"
      ]
    },
    {
      "cell_type": "code",
      "execution_count": 13,
      "metadata": {
        "id": "45rZv2pJY3wo"
      },
      "outputs": [],
      "source": [
        "class CharRNN(nn.Module):\n",
        "\n",
        "    def __init__(self, tokens, n_hidden=256, n_layers=2,\n",
        "                               drop_prob=0.5, lr=0.001):\n",
        "        super().__init__()\n",
        "        self.drop_prob = drop_prob\n",
        "        self.n_layers = n_layers\n",
        "        self.n_hidden = n_hidden\n",
        "        self.lr = lr\n",
        "\n",
        "        # creating character dictionaries\n",
        "        self.chars = tokens\n",
        "        self.int2char = dict(enumerate(self.chars))\n",
        "        self.char2int = {ch: ii for ii, ch in self.int2char.items()}\n",
        "\n",
        "        ## TODO: define the layers of the model\n",
        "        self.lstm = nn.LSTM(len(tokens), n_hidden, n_layers,\n",
        "                            dropout=drop_prob, batch_first=True)\n",
        "\n",
        "        ## TODO: define a dropout layer\n",
        "        self.dropout = nn.Dropout(drop_prob)\n",
        "\n",
        "        ## TODO: define the final, fully-connected output layer\n",
        "        self.fc = nn.Linear(n_hidden, len(tokens))\n",
        "\n",
        "    def forward(self, x, hidden):\n",
        "        ''' Forward pass through the network.\n",
        "            These inputs are x, and the hidden/cell state `hidden`. '''\n",
        "\n",
        "        ## TODO: Get the outputs and the new hidden state from the lstm\n",
        "        r_output, hidden = self.lstm(x, hidden)\n",
        "        out = self.dropout(r_output)\n",
        "        out = out.contiguous().view(-1, self.n_hidden)\n",
        "        out = self.fc(out)\n",
        "\n",
        "        # return the final output and the hidden state\n",
        "        return out, hidden\n",
        "\n",
        "\n",
        "    def init_hidden(self, batch_size):\n",
        "        ''' Initializes hidden state '''\n",
        "        # Create two new tensors with sizes n_layers x batch_size x n_hidden,\n",
        "        # initialized to zero, for hidden state and cell state of LSTM\n",
        "        weight = next(self.parameters()).data\n",
        "\n",
        "        if (train_on_gpu):\n",
        "            hidden = (weight.new(self.n_layers, batch_size, self.n_hidden).zero_().to(device),\n",
        "                  weight.new(self.n_layers, batch_size, self.n_hidden).zero_().to(device))\n",
        "        else:\n",
        "            hidden = (weight.new(self.n_layers, batch_size, self.n_hidden).zero_(),\n",
        "                      weight.new(self.n_layers, batch_size, self.n_hidden).zero_())\n",
        "\n",
        "        return hidden\n",
        ""
      ]
    },
    {
      "cell_type": "markdown",
      "metadata": {
        "id": "v_DmuVTCY3ws"
      },
      "source": [
        "## Time to train\n",
        "\n",
        "The train function gives us the ability to set the number of epochs, the learning rate, and other parameters.\n",
        "\n",
        "Below we're using an Adam optimizer and cross entropy loss since we are looking at character class scores as output. We calculate the loss and perform backpropagation, as usual!\n",
        "\n",
        "A couple of details about training:\n",
        ">* Within the batch loop, we detach the hidden state from its history; this time setting it equal to a new *tuple* variable because an LSTM has a hidden state that is a tuple of the hidden and cell states.\n",
        "* We use [`clip_grad_norm_`](https://pytorch.org/docs/stable/_modules/torch/nn/utils/clip_grad.html) to help prevent exploding gradients."
      ]
    },
    {
      "cell_type": "code",
      "execution_count": 14,
      "metadata": {
        "id": "EIsaQmYGY3wu"
      },
      "outputs": [],
      "source": [
        "def train(net, data, epochs=10, batch_size=10, seq_length=50, lr=0.001, clip=5, val_frac=0.1, print_every=10):\n",
        "    ''' Training a network\n",
        "\n",
        "        Arguments\n",
        "        ---------\n",
        "\n",
        "        net: CharRNN network\n",
        "        data: text data to train the network\n",
        "        epochs: Number of epochs to train\n",
        "        batch_size: Number of mini-sequences per mini-batch, aka batch size\n",
        "        seq_length: Number of character steps per mini-batch\n",
        "        lr: learning rate\n",
        "        clip: gradient clipping\n",
        "        val_frac: Fraction of data to hold out for validation\n",
        "        print_every: Number of steps for printing training and validation loss\n",
        "\n",
        "    '''\n",
        "    net.train()\n",
        "\n",
        "    opt = torch.optim.Adam(net.parameters(), lr=lr)\n",
        "    criterion = nn.CrossEntropyLoss()\n",
        "\n",
        "    # create training and validation data\n",
        "    val_idx = int(len(data)*(1-val_frac))\n",
        "    data, val_data = data[:val_idx], data[val_idx:]\n",
        "\n",
        "    if(train_on_gpu):\n",
        "        net.to(device)\n",
        "\n",
        "    counter = 0\n",
        "    n_chars = len(net.chars)\n",
        "    for e in range(epochs):\n",
        "        # initialize hidden state\n",
        "        h = net.init_hidden(batch_size)\n",
        "\n",
        "        for x, y in get_batches(data, batch_size, seq_length):\n",
        "            counter += 1\n",
        "\n",
        "            # One-hot encode our data and make them Torch tensors\n",
        "            x = one_hot_encode(x, n_chars)\n",
        "            inputs, targets = torch.from_numpy(x), torch.from_numpy(y)\n",
        "\n",
        "            if(train_on_gpu):\n",
        "                inputs, targets = inputs.to(device), targets.to(device)\n",
        "\n",
        "            # Creating new variables for the hidden state, otherwise\n",
        "            # we'd backprop through the entire training history\n",
        "            h = tuple([each.data for each in h])\n",
        "\n",
        "            # zero accumulated gradients\n",
        "            net.zero_grad()\n",
        "\n",
        "            # get the output from the model\n",
        "\n",
        "            output, h = net(inputs, h)\n",
        "\n",
        "            # calculate the loss and perform backprop\n",
        "            loss = criterion(output, targets.view(batch_size*seq_length))\n",
        "            loss.backward()\n",
        "            # `clip_grad_norm` helps prevent the exploding gradient problem in RNNs / LSTMs.\n",
        "            nn.utils.clip_grad_norm_(net.parameters(), clip)\n",
        "            opt.step()\n",
        "\n",
        "            # loss stats\n",
        "            if counter % print_every == 0:\n",
        "                # Get validation loss\n",
        "                val_h = net.init_hidden(batch_size)\n",
        "                val_losses = []\n",
        "                net.eval()\n",
        "                for x, y in get_batches(val_data, batch_size, seq_length):\n",
        "                    # One-hot encode our data and make them Torch tensors\n",
        "                    x = one_hot_encode(x, n_chars)\n",
        "                    x, y = torch.from_numpy(x), torch.from_numpy(y)\n",
        "\n",
        "                    # Creating new variables for the hidden state, otherwise\n",
        "                    # we'd backprop through the entire training history\n",
        "                    val_h = tuple([each.data for each in val_h])\n",
        "\n",
        "                    inputs, targets = x, y\n",
        "                    if(train_on_gpu):\n",
        "                        inputs, targets = inputs.to(device), targets.to(device)\n",
        "\n",
        "                    output, val_h = net(inputs, val_h)\n",
        "                    val_loss = criterion(output, targets.view(batch_size*seq_length))\n",
        "\n",
        "                    val_losses.append(val_loss.item())\n",
        "\n",
        "                net.train() # reset to train mode after iterationg through validation data\n",
        "\n",
        "                print(\"Epoch: {}/{}...\".format(e+1, epochs),\n",
        "                      \"Step: {}...\".format(counter),\n",
        "                      \"Loss: {:.4f}...\".format(loss.item()),\n",
        "                      \"Val Loss: {:.4f}\".format(np.mean(val_losses)))"
      ]
    },
    {
      "cell_type": "markdown",
      "metadata": {
        "id": "D9R2WvBFY3wy"
      },
      "source": [
        "## Instantiating the model\n",
        "\n",
        "Now we can actually train the network. First we'll create the network itself, with some given hyperparameters. Then, define the mini-batches sizes, and start training!"
      ]
    },
    {
      "cell_type": "code",
      "execution_count": 23,
      "metadata": {
        "colab": {
          "base_uri": "https://localhost:8080/"
        },
        "id": "gO22s70tY3wz",
        "outputId": "9449186d-be8f-4b29-ad9e-1c902967768d"
      },
      "outputs": [
        {
          "output_type": "stream",
          "name": "stdout",
          "text": [
            "CharRNN(\n",
            "  (lstm): LSTM(89, 256, num_layers=4, batch_first=True, dropout=0.5)\n",
            "  (dropout): Dropout(p=0.5, inplace=False)\n",
            "  (fc): Linear(in_features=256, out_features=89, bias=True)\n",
            ")\n"
          ]
        }
      ],
      "source": [
        "## TODO: set you model hyperparameters\n",
        "# define and print the net\n",
        "n_hidden = 256\n",
        "n_layers = 4\n",
        "net = CharRNN(chars, n_hidden, n_layers)\n",
        "\n",
        "print(net)"
      ]
    },
    {
      "cell_type": "markdown",
      "metadata": {
        "id": "hSnOPX9FY3w2"
      },
      "source": [
        "### Set your training hyperparameters!"
      ]
    },
    {
      "cell_type": "code",
      "execution_count": 32,
      "metadata": {
        "scrolled": true,
        "colab": {
          "base_uri": "https://localhost:8080/"
        },
        "id": "zkFKzrKYY3w3",
        "outputId": "5d79cac9-2787-4965-c602-0d23d801023e"
      },
      "outputs": [
        {
          "output_type": "stream",
          "name": "stdout",
          "text": [
            "Epoch: 1/10... Step: 10... Loss: 3.1987... Val Loss: 3.3731\n",
            "Epoch: 1/10... Step: 20... Loss: 3.1428... Val Loss: 3.3821\n",
            "Epoch: 1/10... Step: 30... Loss: 3.1500... Val Loss: 3.3954\n",
            "Epoch: 2/10... Step: 40... Loss: 3.1808... Val Loss: 3.3849\n",
            "Epoch: 2/10... Step: 50... Loss: 3.1938... Val Loss: 3.3927\n",
            "Epoch: 2/10... Step: 60... Loss: 3.1620... Val Loss: 3.3977\n",
            "Epoch: 2/10... Step: 70... Loss: 3.1601... Val Loss: 3.3993\n",
            "Epoch: 3/10... Step: 80... Loss: 3.1584... Val Loss: 3.3851\n",
            "Epoch: 3/10... Step: 90... Loss: 3.1826... Val Loss: 3.3927\n",
            "Epoch: 3/10... Step: 100... Loss: 3.1814... Val Loss: 3.4045\n",
            "Epoch: 4/10... Step: 110... Loss: 3.2451... Val Loss: 3.4018\n",
            "Epoch: 4/10... Step: 120... Loss: 3.1623... Val Loss: 3.3953\n",
            "Epoch: 4/10... Step: 130... Loss: 3.1651... Val Loss: 3.3980\n",
            "Epoch: 4/10... Step: 140... Loss: 3.1657... Val Loss: 3.4033\n",
            "Epoch: 5/10... Step: 150... Loss: 3.2168... Val Loss: 3.3885\n",
            "Epoch: 5/10... Step: 160... Loss: 3.1510... Val Loss: 3.3902\n",
            "Epoch: 5/10... Step: 170... Loss: 3.0938... Val Loss: 3.3517\n",
            "Epoch: 5/10... Step: 180... Loss: 3.0427... Val Loss: 3.3759\n",
            "Epoch: 6/10... Step: 190... Loss: 3.0363... Val Loss: 3.2979\n",
            "Epoch: 6/10... Step: 200... Loss: 2.9282... Val Loss: 3.2809\n",
            "Epoch: 6/10... Step: 210... Loss: 2.8697... Val Loss: 3.2545\n",
            "Epoch: 7/10... Step: 220... Loss: 2.8439... Val Loss: 3.2362\n",
            "Epoch: 7/10... Step: 230... Loss: 2.8154... Val Loss: 3.2037\n",
            "Epoch: 7/10... Step: 240... Loss: 2.7222... Val Loss: 3.2239\n",
            "Epoch: 7/10... Step: 250... Loss: 2.6577... Val Loss: 3.1863\n",
            "Epoch: 8/10... Step: 260... Loss: 2.6397... Val Loss: 3.1914\n",
            "Epoch: 8/10... Step: 270... Loss: 2.6036... Val Loss: 3.1337\n",
            "Epoch: 8/10... Step: 280... Loss: 2.6229... Val Loss: 3.2016\n",
            "Epoch: 9/10... Step: 290... Loss: 2.6904... Val Loss: 3.1446\n",
            "Epoch: 9/10... Step: 300... Loss: 2.5709... Val Loss: 3.1509\n",
            "Epoch: 9/10... Step: 310... Loss: 2.5417... Val Loss: 3.1246\n",
            "Epoch: 9/10... Step: 320... Loss: 2.5384... Val Loss: 3.1421\n",
            "Epoch: 10/10... Step: 330... Loss: 2.5892... Val Loss: 3.1419\n",
            "Epoch: 10/10... Step: 340... Loss: 2.4645... Val Loss: 3.1152\n",
            "Epoch: 10/10... Step: 350... Loss: 2.4358... Val Loss: 3.0983\n",
            "Epoch: 10/10... Step: 360... Loss: 2.4580... Val Loss: 3.1163\n"
          ]
        }
      ],
      "source": [
        "batch_size = 40\n",
        "seq_length = 100\n",
        "n_epochs = 10 # start smaller if you are just testing initial behavior\n",
        "# train the model\n",
        "train(net, encoded, epochs=n_epochs, batch_size=batch_size, seq_length=seq_length, lr=0.001, print_every=10)"
      ]
    },
    {
      "cell_type": "code",
      "source": [
        "batch_size = 40\n",
        "seq_length = 100\n",
        "n_epochs = 13 # start smaller if you are just testing initial behavior\n",
        "# train the model\n",
        "train(net, encoded, epochs=n_epochs, batch_size=batch_size, seq_length=seq_length, lr=0.001, print_every=10)"
      ],
      "metadata": {
        "colab": {
          "base_uri": "https://localhost:8080/"
        },
        "id": "d3uENa-EgjPM",
        "outputId": "1e877483-84a9-4e9a-f941-527584e0c637"
      },
      "execution_count": 39,
      "outputs": [
        {
          "output_type": "stream",
          "name": "stdout",
          "text": [
            "Epoch: 1/13... Step: 10... Loss: 2.4717... Val Loss: 3.1227\n",
            "Epoch: 1/13... Step: 20... Loss: 2.4398... Val Loss: 3.1310\n",
            "Epoch: 1/13... Step: 30... Loss: 2.4538... Val Loss: 3.1347\n",
            "Epoch: 2/13... Step: 40... Loss: 2.4560... Val Loss: 3.1206\n",
            "Epoch: 2/13... Step: 50... Loss: 2.4788... Val Loss: 3.0966\n",
            "Epoch: 2/13... Step: 60... Loss: 2.4605... Val Loss: 3.1200\n",
            "Epoch: 2/13... Step: 70... Loss: 2.4086... Val Loss: 3.0988\n",
            "Epoch: 3/13... Step: 80... Loss: 2.3893... Val Loss: 3.1121\n",
            "Epoch: 3/13... Step: 90... Loss: 2.4201... Val Loss: 3.0955\n",
            "Epoch: 3/13... Step: 100... Loss: 2.4326... Val Loss: 3.0915\n",
            "Epoch: 4/13... Step: 110... Loss: 2.5010... Val Loss: 3.0893\n",
            "Epoch: 4/13... Step: 120... Loss: 2.3655... Val Loss: 3.0822\n",
            "Epoch: 4/13... Step: 130... Loss: 2.3927... Val Loss: 3.0972\n",
            "Epoch: 4/13... Step: 140... Loss: 2.4018... Val Loss: 3.0932\n",
            "Epoch: 5/13... Step: 150... Loss: 2.4385... Val Loss: 3.0812\n",
            "Epoch: 5/13... Step: 160... Loss: 2.3343... Val Loss: 3.0736\n",
            "Epoch: 5/13... Step: 170... Loss: 2.3176... Val Loss: 3.0814\n",
            "Epoch: 5/13... Step: 180... Loss: 2.3596... Val Loss: 3.0997\n",
            "Epoch: 6/13... Step: 190... Loss: 2.3370... Val Loss: 3.0494\n",
            "Epoch: 6/13... Step: 200... Loss: 2.2849... Val Loss: 3.0863\n",
            "Epoch: 6/13... Step: 210... Loss: 2.3549... Val Loss: 3.0856\n",
            "Epoch: 7/13... Step: 220... Loss: 2.3486... Val Loss: 3.0651\n",
            "Epoch: 7/13... Step: 230... Loss: 2.3777... Val Loss: 3.0670\n",
            "Epoch: 7/13... Step: 240... Loss: 2.3474... Val Loss: 3.0742\n",
            "Epoch: 7/13... Step: 250... Loss: 2.3002... Val Loss: 3.0638\n",
            "Epoch: 8/13... Step: 260... Loss: 2.2955... Val Loss: 3.0689\n",
            "Epoch: 8/13... Step: 270... Loss: 2.3272... Val Loss: 3.0474\n",
            "Epoch: 8/13... Step: 280... Loss: 2.3440... Val Loss: 3.0791\n",
            "Epoch: 9/13... Step: 290... Loss: 2.4001... Val Loss: 3.0494\n",
            "Epoch: 9/13... Step: 300... Loss: 2.2728... Val Loss: 3.0513\n",
            "Epoch: 9/13... Step: 310... Loss: 2.3193... Val Loss: 3.0720\n",
            "Epoch: 9/13... Step: 320... Loss: 2.3074... Val Loss: 3.0613\n",
            "Epoch: 10/13... Step: 330... Loss: 2.3492... Val Loss: 3.0415\n",
            "Epoch: 10/13... Step: 340... Loss: 2.2560... Val Loss: 3.0560\n",
            "Epoch: 10/13... Step: 350... Loss: 2.2250... Val Loss: 3.0710\n",
            "Epoch: 10/13... Step: 360... Loss: 2.2703... Val Loss: 3.1046\n",
            "Epoch: 11/13... Step: 370... Loss: 2.2602... Val Loss: 3.0402\n",
            "Epoch: 11/13... Step: 380... Loss: 2.2060... Val Loss: 3.0406\n",
            "Epoch: 11/13... Step: 390... Loss: 2.2786... Val Loss: 3.0801\n",
            "Epoch: 12/13... Step: 400... Loss: 2.2472... Val Loss: 3.0490\n",
            "Epoch: 12/13... Step: 410... Loss: 2.2863... Val Loss: 3.0578\n",
            "Epoch: 12/13... Step: 420... Loss: 2.2711... Val Loss: 3.0676\n",
            "Epoch: 12/13... Step: 430... Loss: 2.2146... Val Loss: 3.0630\n",
            "Epoch: 13/13... Step: 440... Loss: 2.1978... Val Loss: 3.0700\n",
            "Epoch: 13/13... Step: 450... Loss: 2.2458... Val Loss: 3.0407\n",
            "Epoch: 13/13... Step: 460... Loss: 2.2625... Val Loss: 3.0629\n"
          ]
        }
      ]
    },
    {
      "cell_type": "markdown",
      "metadata": {
        "id": "-o6-wJ_kY3w5"
      },
      "source": [
        "##### Getting the best model\n",
        "\n",
        "To set your hyperparameters to get the best performance, you'll want to watch the training and validation losses. If your training loss is much lower than the validation loss, you're overfitting. Increase regularization (more dropout) or use a smaller network. If the training and validation losses are close, you're underfitting so you can increase the size of the network."
      ]
    },
    {
      "cell_type": "markdown",
      "metadata": {
        "id": "53lnENgwY3w6"
      },
      "source": [
        "## Hyperparameters\n",
        "\n",
        "Here are the hyperparameters for the network.\n",
        "\n",
        "In defining the model:\n",
        "* `n_hidden` - The number of units in the hidden layers.\n",
        "* `n_layers` - Number of hidden LSTM layers to use.\n",
        "\n",
        "We assume that dropout probability and learning rate will be kept at the default, in this example.\n",
        "\n",
        "And in training:\n",
        "* `batch_size` - Number of sequences running through the network in one pass.\n",
        "* `seq_length` - Number of characters in the sequence the network is trained on. Larger is better typically, the network will learn more long range dependencies. But it takes longer to train. 100 is typically a good number here.\n",
        "* `lr` - Learning rate for training\n",
        "\n",
        "Here's some good advice from Andrej Karpathy on training the network. I'm going to copy it in here for your benefit, but also link to [where it originally came from](https://github.com/karpathy/char-rnn#tips-and-tricks).\n",
        "\n",
        "> ## Tips and Tricks\n",
        "\n",
        ">### Monitoring Validation Loss vs. Training Loss\n",
        ">If you're somewhat new to Machine Learning or Neural Networks it can take a bit of expertise to get good models. The most important quantity to keep track of is the difference between your training loss (printed during training) and the validation loss (printed once in a while when the RNN is run on the validation data (by default every 1000 iterations)). In particular:\n",
        "\n",
        "> - If your training loss is much lower than validation loss then this means the network might be **overfitting**. Solutions to this are to decrease your network size, or to increase dropout. For example you could try dropout of 0.5 and so on.\n",
        "> - If your training/validation loss are about equal then your model is **underfitting**. Increase the size of your model (either number of layers or the raw number of neurons per layer)\n",
        "\n",
        "> ### Approximate number of parameters\n",
        "\n",
        "> The two most important parameters that control the model are `n_hidden` and `n_layers`. I would advise that you always use `n_layers` of either 2/3. The `n_hidden` can be adjusted based on how much data you have. The two important quantities to keep track of here are:\n",
        "\n",
        "> - The number of parameters in your model. This is printed when you start training.\n",
        "> - The size of your dataset. 1MB file is approximately 1 million characters.\n",
        "\n",
        ">These two should be about the same order of magnitude. It's a little tricky to tell. Here are some examples:\n",
        "\n",
        "> - I have a 100MB dataset and I'm using the default parameter settings (which currently print 150K parameters). My data size is significantly larger (100 mil >> 0.15 mil), so I expect to heavily underfit. I am thinking I can comfortably afford to make `n_hidden` larger.\n",
        "> - I have a 10MB dataset and running a 10 million parameter model. I'm slightly nervous and I'm carefully monitoring my validation loss. If it's larger than my training loss then I may want to try to increase dropout a bit and see if that helps the validation loss.\n",
        "\n",
        "> ### Best models strategy\n",
        "\n",
        ">The winning strategy to obtaining very good models (if you have the compute time) is to always err on making the network larger (as large as you're willing to wait for it to compute) and then try different dropout values (between 0,1). Whatever model has the best validation performance (the loss, written in the checkpoint filename, low is good) is the one you should use in the end.\n",
        "\n",
        ">It is very common in deep learning to run many different models with many different hyperparameter settings, and in the end take whatever checkpoint gave the best validation performance.\n",
        "\n",
        ">By the way, the size of your training and validation splits are also parameters. Make sure you have a decent amount of data in your validation set or otherwise the validation performance will be noisy and not very informative."
      ]
    },
    {
      "cell_type": "markdown",
      "metadata": {
        "id": "cMkvJ5TRY3w9"
      },
      "source": [
        "## Checkpoint\n",
        "\n",
        "After training, we'll save the model so we can load it again later if we need too. Here I'm saving the parameters needed to create the same architecture, the hidden layer hyperparameters and the text characters."
      ]
    },
    {
      "cell_type": "code",
      "execution_count": 33,
      "metadata": {
        "id": "wplkPg7WY3w-"
      },
      "outputs": [],
      "source": [
        "# change the name, for saving multiple files\n",
        "model_name = 'rnn_x_epoch.net'\n",
        "\n",
        "checkpoint = {'n_hidden': net.n_hidden,\n",
        "              'n_layers': net.n_layers,\n",
        "              'state_dict': net.state_dict(),\n",
        "              'tokens': net.chars}\n",
        "\n",
        "with open(model_name, 'wb') as f:\n",
        "    torch.save(checkpoint, f)"
      ]
    },
    {
      "cell_type": "markdown",
      "metadata": {
        "tags": [],
        "id": "u2PDwoU8Y3xB"
      },
      "source": [
        "---\n",
        "## Making Predictions\n",
        "\n",
        "Now that the model is trained, we'll want to sample from it and make predictions about next characters! To sample, we pass in a character and have the network predict the next character. Then we take that character, pass it back in, and get another predicted character. Just keep doing this and you'll generate a bunch of text!\n",
        "\n",
        "### A note on the `predict`  function\n",
        "\n",
        "The output of our RNN is from a fully-connected layer and it outputs a **distribution of next-character scores**.\n",
        "\n",
        "> To actually get the next character, we apply a softmax function, which gives us a *probability* distribution that we can then sample to predict the next character.\n",
        "\n",
        "### Top K sampling\n",
        "\n",
        "Our predictions come from a categorical probability distribution over all the possible characters. We can make the sample text and make it more reasonable to handle (with less variables) by only considering some $K$ most probable characters. This will prevent the network from giving us completely absurd characters while allowing it to introduce some noise and randomness into the sampled text. Read more about [topk, here](https://pytorch.org/docs/stable/torch.html#torch.topk).\n"
      ]
    },
    {
      "cell_type": "code",
      "execution_count": 34,
      "metadata": {
        "id": "5U8hItLGY3xC"
      },
      "outputs": [],
      "source": [
        "def predict(net, char, h=None, top_k=None):\n",
        "        ''' Given a character, predict the next character.\n",
        "            Returns the predicted character and the hidden state.\n",
        "        '''\n",
        "\n",
        "        # tensor inputs\n",
        "        x = np.array([[net.char2int[char]]])\n",
        "        x = one_hot_encode(x, len(net.chars))\n",
        "        inputs = torch.from_numpy(x)\n",
        "\n",
        "        if(train_on_gpu):\n",
        "            inputs = inputs.to(device)\n",
        "\n",
        "        # detach hidden state from history\n",
        "        h = tuple([each.data for each in h])\n",
        "        # get the output of the model\n",
        "        out, h = net(inputs, h)\n",
        "\n",
        "        # get the character probabilities\n",
        "        p = F.softmax(out, dim=1).data\n",
        "        if(train_on_gpu):\n",
        "            p = p.cpu() # move to cpu\n",
        "\n",
        "        # get top characters\n",
        "        if top_k is None:\n",
        "            top_ch = np.arange(len(net.chars))\n",
        "        else:\n",
        "            p, top_ch = p.topk(top_k)\n",
        "            top_ch = top_ch.numpy().squeeze()\n",
        "\n",
        "        # select the likely next character with some element of randomness\n",
        "        p = p.numpy().squeeze()\n",
        "        char = np.random.choice(top_ch, p=p/p.sum())\n",
        "\n",
        "        # return the encoded value of the predicted char and the hidden state\n",
        "        return net.int2char[char], h"
      ]
    },
    {
      "cell_type": "markdown",
      "metadata": {
        "id": "MCe9HXIMY3xI"
      },
      "source": [
        "### Priming and generating text\n",
        "\n",
        "Typically you'll want to prime the network so you can build up a hidden state. Otherwise the network will start out generating characters at random. In general the first bunch of characters will be a little rough since it hasn't built up a long history of characters to predict from."
      ]
    },
    {
      "cell_type": "code",
      "execution_count": 35,
      "metadata": {
        "id": "tEcWgTJwY3xJ"
      },
      "outputs": [],
      "source": [
        "def sample(net, size, prime='The', top_k=None):\n",
        "\n",
        "    if(train_on_gpu):\n",
        "        net.to(device)\n",
        "    else:\n",
        "        net.cpu()\n",
        "\n",
        "    net.eval() # eval mode\n",
        "\n",
        "    # First off, run through the prime characters\n",
        "    chars = [ch for ch in prime]\n",
        "    h = net.init_hidden(1)\n",
        "    for ch in prime:\n",
        "        char, h = predict(net, ch, h, top_k=top_k)\n",
        "\n",
        "    chars.append(char)\n",
        "\n",
        "    # Now pass in the previous character and get a new one\n",
        "    for ii in range(size):\n",
        "        char, h = predict(net, chars[-1], h, top_k=top_k)\n",
        "        chars.append(char)\n",
        "\n",
        "    return ''.join(chars)"
      ]
    },
    {
      "cell_type": "code",
      "execution_count": 36,
      "metadata": {
        "colab": {
          "base_uri": "https://localhost:8080/"
        },
        "id": "xti0TpxxY3yY",
        "outputId": "0ebd746b-6a32-4a01-cd65-526136e3705a"
      },
      "outputs": [
        {
          "output_type": "stream",
          "name": "stdout",
          "text": [
            "Alice.\n",
            "at sore the wished \n",
            "“I tau at a cank, ta whe tisle wist i sott and she af i carkere. shane se at o the seudt”, \n",
            "“I se weud here the\n",
            "hert of to sarhing\n",
            "seut and afe taul sine a core tase to torser ot an af the taut shiser\n",
            "ollit tonen ater,ed she hhe hand tho heud thantirted and and tase o teand the son oneuter of that af onice,\n",
            "and tho at seud tane, tasl an te aleent ind to tind ta want a sot the and sise an tore wher of sher the aldedt and whe tot saud shot tho wandir a taud,”ed at sh the hhe houdere the wadhtes at in ol onicee sonle tind,eng in toud theen at the at se thos tho whe hash of, wose ald a cisl sith anl ot\n",
            "the afe te wan han than onl a dink if, all ta hhil so sat sonted thos of on shand she won so hhe hot to hant shise and an casl one wos tert ser thase teet she sidt she\n",
            "sar ofe the\n",
            "hhind ant at the sor tore on te harhe see hat tarel, this hhe at\n",
            "indint and a whe shash af an ant tour an ciuder one the than ith” \n",
            "“ I soult she whe hase so heudh an afl ot sithit thind allent\n"
          ]
        }
      ],
      "source": [
        "print(sample(net, 1000, prime='Alice', top_k=5))"
      ]
    },
    {
      "cell_type": "code",
      "source": [
        "print(sample(net, 1000, prime='Alice', top_k=5))"
      ],
      "metadata": {
        "colab": {
          "base_uri": "https://localhost:8080/"
        },
        "id": "z0ivpnntjU1R",
        "outputId": "2b96ab46-99f3-4313-977b-861410f64982"
      },
      "execution_count": 40,
      "outputs": [
        {
          "output_type": "stream",
          "name": "stdout",
          "text": [
            "Alice whene of tould te hers to hid the was than the thenes and at than to he the sidt thalled to she said the was sery of she so hares, so seald of the cone she sar and sele the tone\n",
            "to sish a that in the was a lowe,,” the seur of\n",
            "so hase at anl the hane woude a the said Alich,\n",
            "“Tore as i thit, the Dathoner,.\n",
            "“The wide whem, and sorl when thilk ol that hollort\n",
            "““Tale’t we hane the Deach the sale. at tha sar sile, at as a thon the whace tar and woller to thit and the wis\n",
            "the to hase.\n",
            "““Yhoy anle the was she wises ast\n",
            "she the wand on the thore shat\n",
            "hhon so to tho cis hanler, “Tho sir hene the the was thalh and she sail the hatt ant wort and a mrow ov the sas of the theale wond a lonl taid the sal the\n",
            "cashens, “The saned te thane shen the wheme at the werd olise sear to thit inlin and shire of the to shis and whe choures shinge sere sar hore te her ander as than to soud siid tare sole and a shonled ous sheme tire at sit to hees herere shit alice sis she sas shat hhit salting hit sone ot the ca\n"
          ]
        }
      ]
    },
    {
      "cell_type": "markdown",
      "metadata": {
        "id": "1IuupyaKY3ya"
      },
      "source": [
        "## Loading a checkpoint"
      ]
    },
    {
      "cell_type": "code",
      "execution_count": 37,
      "metadata": {
        "colab": {
          "base_uri": "https://localhost:8080/"
        },
        "id": "A_LzZbADY3yb",
        "outputId": "b6d4107f-a7e5-42a3-b8af-5ccacbbac9f8"
      },
      "outputs": [
        {
          "output_type": "execute_result",
          "data": {
            "text/plain": [
              "<All keys matched successfully>"
            ]
          },
          "metadata": {},
          "execution_count": 37
        }
      ],
      "source": [
        "# Here we have loaded in a model that trained over 20 epochs `rnn_20_epoch.net`\n",
        "with open('rnn_x_epoch.net', 'rb') as f:\n",
        "    checkpoint = torch.load(f)\n",
        "\n",
        "loaded = CharRNN(checkpoint['tokens'], n_hidden=checkpoint['n_hidden'], n_layers=checkpoint['n_layers'])\n",
        "loaded.load_state_dict(checkpoint['state_dict'])"
      ]
    },
    {
      "cell_type": "code",
      "execution_count": 38,
      "metadata": {
        "colab": {
          "base_uri": "https://localhost:8080/"
        },
        "id": "zdOc3_fqY3yd",
        "outputId": "0509dae4-96ec-4093-bb6a-c46588da4a08"
      },
      "outputs": [
        {
          "output_type": "stream",
          "name": "stdout",
          "text": [
            "card ald ther at an a cise tate ter a tert\n",
            "satt tort\n",
            "she the sis at teat it i wish of tited sashen she\n",
            "at onic she she tertith and ter here, ondinl, ““I tont tor, a care so shat the tat thin te sither the wont the tas alt al and this hhe alt of a tat ot otere and and see tirt al tasees the hhis teund shite, sis she\n",
            "tatl, sathen a cateden sort and tort\n",
            "of afing to wo teud,enen so tithed she ander at the anlt of the to sere tin onit ofeet il inet to tore ther. on i she wet and anl the thased tan theed the woud andore thor, sath an tath\n",
            "to that o ceod the te wot toad and the whant, the hit seut\n",
            "a dead oning,\n",
            "ton then wit ti she sere ot thand sead the houd ande te wont afire of tat wel and wind af if the whe wat ter the wat ononl, tho hhe atit ti he that ter hiide, she at ser ter onl we won ter one hhe tit on at sho hith the the tarl sirt ofe hore weund shang and toll the whanden tir hher the af ot thar, af a tonled of a wen torl af the wor tant on tere terler the hhe sith wiit soult sere theen,\n",
            "at an al tired,\n",
            "\n",
            "“Tir hhe so son of to tater\n",
            "at i she tind of onl she tho tar afl an sote teut te and on ter thand thil the sath the hhile an on saneedens \n",
            "“The shirt te we teud tinder at, ot sar after al o donet the wash sin teen an of tole teane thore all wot so ser whitee and of, tis sheed on a dink i sear the hhat alde a sontire at tinlir the hhink she heund onone seunt toree seare wost if the\n",
            "so houd olis ter wit ther sat she sho tare tate the te hour tirt at andert onice,”\n",
            "sheeder onishir soulg on the widten anded onines one ther tind ta tis onines,,\n",
            "““    I’ doud th that a coth a wertenen on a she sit what tor tols afith an tithe wers,” sot o tho hhe sath we te teut\n",
            "ille wirde hhin seund\n",
            "ofing ind an ton oted oneneder, sons\n",
            "and saud and thit, said onet af ith she tank an thon then wiit the and a siud ant aft thas sas tho tath of at the hare to at ifing thate the tonl of the tise, \n",
            "“Wertened \n",
            "“ Wore tau ciund, shit sat tireed thore af tor the whe she hise andened of ot ton the \n"
          ]
        }
      ],
      "source": [
        "# Sample using a loaded model\n",
        "print(sample(loaded, 2000, top_k=5, prime=\"card\"))"
      ]
    },
    {
      "cell_type": "code",
      "execution_count": null,
      "metadata": {
        "id": "o3IojiADY3yf"
      },
      "outputs": [],
      "source": []
    }
  ],
  "metadata": {
    "kernelspec": {
      "display_name": "Python 3 (ipykernel)",
      "language": "python",
      "name": "python3"
    },
    "language_info": {
      "codemirror_mode": {
        "name": "ipython",
        "version": 3
      },
      "file_extension": ".py",
      "mimetype": "text/x-python",
      "name": "python",
      "nbconvert_exporter": "python",
      "pygments_lexer": "ipython3",
      "version": "3.11.0"
    },
    "colab": {
      "provenance": []
    }
  },
  "nbformat": 4,
  "nbformat_minor": 0
}